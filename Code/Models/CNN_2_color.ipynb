{
 "cells": [
  {
   "cell_type": "code",
   "execution_count": 2,
   "id": "52ba255a-f076-4c75-8b4a-0af34f459466",
   "metadata": {},
   "outputs": [],
   "source": [
    "# Import libraries\n",
    "\n",
    "import numpy as np\n",
    "import pickle\n",
    "import tensorflow as tf\n",
    "from keras.utils import to_categorical\n",
    "import matplotlib.pyplot as plt\n",
    "from sklearn.metrics import classification_report, confusion_matrix\n",
    "import seaborn as sns\n",
    "from tensorflow import keras\n",
    "from tensorflow.keras.layers import BatchNormalization\n",
    "from tensorflow.keras import layers, regularizers\n",
    "from keras_tuner.tuners import RandomSearch\n",
    "from tensorflow.keras.optimizers import Adam"
   ]
  },
  {
   "cell_type": "code",
   "execution_count": 3,
   "id": "0fbe5be7-f132-455e-be96-5cb91c191c29",
   "metadata": {},
   "outputs": [],
   "source": [
    "# Function to load X values\n",
    "def load_color_inputs():\n",
    "    X_train_color = pickle.load(open('E:/training_color.pkl', \"rb\"))\n",
    "    X_valid_color = pickle.load(open('E:/validation_color.pkl', \"rb\"))\n",
    "    X_test_color = pickle.load(open('E:/testing_color.pkl', \"rb\"))\n",
    "    return X_train_color, X_valid_color, X_test_color\n",
    "\n",
    "# Function to load y values\n",
    "def load_outputs():\n",
    "    y_train = pickle.load(open('E:/y_training.pkl', \"rb\"))\n",
    "    y_valid = pickle.load(open('E:/y_validation.pkl', \"rb\"))\n",
    "    y_test = pickle.load(open('E:/y_testing.pkl', \"rb\"))\n",
    "    return y_train, y_valid, y_test\n",
    "\n",
    "# Function to reshape data\n",
    "def reshape_input_vect(vect, size=(128, 64, 3)):\n",
    "    inp_vect = []\n",
    "    for i in range(vect.shape[0]):\n",
    "        inp_vect.append(np.reshape(vect[i], (128, 64, 3)))\n",
    "    return np.asarray(inp_vect)\n",
    "\n",
    "# Load in X data\n",
    "X_train_color, X_valid_color, X_test_color = load_color_inputs()\n",
    "\n",
    "# Load in y data\n",
    "y_train_color, y_valid_color, y_test_color = load_outputs()\n",
    "\n",
    "# To categorical y-values [[1, 0, 0, 0], [0, 1, 0, 0], [0, 0, 1, 0], [0, 0, 0, 1]]\n",
    "y_train_color = to_categorical(y_train_color, num_classes = None, dtype='float32')\n",
    "y_valid_color = to_categorical(y_valid_color, num_classes = None, dtype='float32')\n",
    "y_test_color = to_categorical(y_test_color, num_classes = None, dtype='float32')"
   ]
  },
  {
   "cell_type": "code",
   "execution_count": 4,
   "id": "22ad17e8-9720-427b-ba15-c2bb608359b9",
   "metadata": {},
   "outputs": [],
   "source": [
    "# Shuffle data\n",
    "np.random.seed(200)\n",
    "X_train_color, X_valid_color, X_test_color = np.random.permutation(X_train_color), np.random.permutation(\n",
    "    X_valid_color), np.random.permutation(X_test_color)\n",
    "np.random.seed(200)\n",
    "y_train_color, y_valid_color, y_test_color = np.random.permutation(y_train_color), np.random.permutation(\n",
    "    y_valid_color), np.random.permutation(y_test_color)\n",
    "\n",
    "# Reshape data\n",
    "X_train_color, X_valid_color, X_test_color = reshape_input_vect(X_train_color), reshape_input_vect(X_valid_color), reshape_input_vect(X_test_color)"
   ]
  },
  {
   "cell_type": "code",
   "execution_count": null,
   "id": "adc843cd-cb80-4c5a-b5cd-28233cf2c77d",
   "metadata": {},
   "outputs": [],
   "source": [
    "# RandomSearch for hyperparameter tuning \n",
    "# Source: Keras Tuner: https://keras.io/keras_tuner/\n",
    "\n",
    "def build_model(hp):\n",
    "    model = tf.keras.Sequential()\n",
    "    \n",
    "    model.add(tf.keras.layers.Conv2D(32, (5, 5), activation='relu', input_shape=(128, 64, 3)))\n",
    "    model.add(tf.keras.layers.MaxPooling2D(pool_size=(2, 2)))\n",
    "\n",
    "    model.add(tf.keras.layers.Conv2D(64, (3, 3), activation='relu'))\n",
    "    model.add(tf.keras.layers.MaxPooling2D(pool_size=(2, 2)))\n",
    "    \n",
    "    model.add(tf.keras.layers.Conv2D(128, (3, 3), activation='relu'))\n",
    "    model.add(tf.keras.layers.MaxPooling2D((2, 2)))\n",
    "\n",
    "    model.add(tf.keras.layers.Dropout(0.2))\n",
    "    model.add(tf.keras.layers.Flatten())\n",
    "    \n",
    "    for i in range(hp.Int('layers', 2, 4)): # Searching through for 2, 3 and 4 hidden layers\n",
    "        model.add(tf.keras.layers.Dense(\n",
    "            units=hp.Int('units_' + str(i), 32, 512, step=32), # Searching for optimal amount of nodes per hidden layer from 32 to 512 with step size of 32\n",
    "            activation=hp.Choice('act_' + str(i), ['relu', 'sigmoid']))) # Searching for optimal activation method\n",
    "    model.add(tf.keras.layers.Dense(4, activation='softmax')) # Output layer is kept out of the for loop because that is fixed\n",
    "    model.compile(\n",
    "        optimizer=keras.optimizers.Adam(\n",
    "            hp.Choice('learning_rate',\n",
    "                     values=[1e-2, 1e-3, 1e-4])), # Learning Rate of 0.01, 0.001 and 0.0001\n",
    "        loss='categorical_crossentropy',\n",
    "        metrics=['accuracy'])\n",
    "    return model\n",
    "\n",
    "tuner = RandomSearch(\n",
    "    build_model,\n",
    "    objective='val_accuracy', # Objective is to maximize validation accuracy\n",
    "    max_trials=10, # Trial 5 times\n",
    "    executions_per_trial=3, # Each trial, try 1 different model\n",
    "    )\n",
    "\n",
    "tuner.search_space_summary()\n",
    "\n",
    "tuner.search(X_train_color,y_train_color, \n",
    "             epochs=10, \n",
    "             validation_data=(X_valid_color,y_valid_color))\n",
    "\n",
    "tuner.results_summary()"
   ]
  },
  {
   "cell_type": "code",
   "execution_count": 8,
   "id": "d75511c5-e26d-4727-89dd-fdf5cb8b1bdd",
   "metadata": {},
   "outputs": [
    {
     "name": "stdout",
     "output_type": "stream",
     "text": [
      "Model: \"sequential_1\"\n",
      "_________________________________________________________________\n",
      " Layer (type)                Output Shape              Param #   \n",
      "=================================================================\n",
      " conv2d_3 (Conv2D)           (None, 124, 60, 32)       2432      \n",
      "                                                                 \n",
      " max_pooling2d_3 (MaxPooling  (None, 62, 30, 32)       0         \n",
      " 2D)                                                             \n",
      "                                                                 \n",
      " dropout_6 (Dropout)         (None, 62, 30, 32)        0         \n",
      "                                                                 \n",
      " conv2d_4 (Conv2D)           (None, 60, 28, 64)        18496     \n",
      "                                                                 \n",
      " max_pooling2d_4 (MaxPooling  (None, 30, 14, 64)       0         \n",
      " 2D)                                                             \n",
      "                                                                 \n",
      " dropout_7 (Dropout)         (None, 30, 14, 64)        0         \n",
      "                                                                 \n",
      " conv2d_5 (Conv2D)           (None, 28, 12, 128)       73856     \n",
      "                                                                 \n",
      " max_pooling2d_5 (MaxPooling  (None, 14, 6, 128)       0         \n",
      " 2D)                                                             \n",
      "                                                                 \n",
      " dropout_8 (Dropout)         (None, 14, 6, 128)        0         \n",
      "                                                                 \n",
      " flatten_1 (Flatten)         (None, 10752)             0         \n",
      "                                                                 \n",
      " dense_4 (Dense)             (None, 480)               5161440   \n",
      "                                                                 \n",
      " dropout_9 (Dropout)         (None, 480)               0         \n",
      "                                                                 \n",
      " dense_5 (Dense)             (None, 224)               107744    \n",
      "                                                                 \n",
      " dropout_10 (Dropout)        (None, 224)               0         \n",
      "                                                                 \n",
      " dense_6 (Dense)             (None, 32)                7200      \n",
      "                                                                 \n",
      " dropout_11 (Dropout)        (None, 32)                0         \n",
      "                                                                 \n",
      " dense_7 (Dense)             (None, 4)                 132       \n",
      "                                                                 \n",
      "=================================================================\n",
      "Total params: 5,371,300\n",
      "Trainable params: 5,371,300\n",
      "Non-trainable params: 0\n",
      "_________________________________________________________________\n",
      "Epoch 1/20\n",
      "60/60 [==============================] - 2s 25ms/step - loss: 1.4286 - accuracy: 0.2552 - val_loss: 1.3863 - val_accuracy: 0.2500\n",
      "Epoch 2/20\n",
      "60/60 [==============================] - 1s 19ms/step - loss: 1.3889 - accuracy: 0.2562 - val_loss: 1.3841 - val_accuracy: 0.2516\n",
      "Epoch 3/20\n",
      "60/60 [==============================] - 1s 20ms/step - loss: 0.7632 - accuracy: 0.6536 - val_loss: 0.1196 - val_accuracy: 0.9625\n",
      "Epoch 4/20\n",
      "60/60 [==============================] - 1s 19ms/step - loss: 0.1826 - accuracy: 0.9474 - val_loss: 0.0916 - val_accuracy: 0.9766\n",
      "Epoch 5/20\n",
      "60/60 [==============================] - 1s 19ms/step - loss: 0.1061 - accuracy: 0.9682 - val_loss: 0.0637 - val_accuracy: 0.9844\n",
      "Epoch 6/20\n",
      "60/60 [==============================] - 1s 20ms/step - loss: 0.0945 - accuracy: 0.9750 - val_loss: 0.0767 - val_accuracy: 0.9781\n",
      "Epoch 7/20\n",
      "60/60 [==============================] - 1s 19ms/step - loss: 0.0655 - accuracy: 0.9833 - val_loss: 0.0676 - val_accuracy: 0.9844\n",
      "Epoch 8/20\n",
      "60/60 [==============================] - 1s 19ms/step - loss: 0.0490 - accuracy: 0.9870 - val_loss: 0.0688 - val_accuracy: 0.9812\n",
      "Epoch 9/20\n",
      "60/60 [==============================] - 1s 19ms/step - loss: 0.0377 - accuracy: 0.9901 - val_loss: 0.0806 - val_accuracy: 0.9844\n",
      "Epoch 10/20\n",
      "60/60 [==============================] - 1s 19ms/step - loss: 0.0350 - accuracy: 0.9896 - val_loss: 0.0882 - val_accuracy: 0.9828\n",
      "Epoch 11/20\n",
      "60/60 [==============================] - 1s 19ms/step - loss: 0.0325 - accuracy: 0.9901 - val_loss: 0.0947 - val_accuracy: 0.9766\n",
      "Epoch 12/20\n",
      "60/60 [==============================] - 1s 19ms/step - loss: 0.0196 - accuracy: 0.9948 - val_loss: 0.0757 - val_accuracy: 0.9844\n",
      "Epoch 13/20\n",
      "60/60 [==============================] - 1s 19ms/step - loss: 0.0276 - accuracy: 0.9917 - val_loss: 0.0883 - val_accuracy: 0.9859\n",
      "Epoch 14/20\n",
      "60/60 [==============================] - 1s 20ms/step - loss: 0.0243 - accuracy: 0.9922 - val_loss: 0.0657 - val_accuracy: 0.9844\n",
      "Epoch 15/20\n",
      "60/60 [==============================] - 1s 19ms/step - loss: 0.0163 - accuracy: 0.9937 - val_loss: 0.0738 - val_accuracy: 0.9828\n",
      "Epoch 16/20\n",
      "60/60 [==============================] - 1s 19ms/step - loss: 0.0085 - accuracy: 0.9969 - val_loss: 0.0627 - val_accuracy: 0.9844\n",
      "Epoch 17/20\n",
      "60/60 [==============================] - 1s 19ms/step - loss: 0.0137 - accuracy: 0.9948 - val_loss: 0.0758 - val_accuracy: 0.9906\n",
      "Epoch 18/20\n",
      "60/60 [==============================] - 1s 19ms/step - loss: 0.0129 - accuracy: 0.9969 - val_loss: 0.0532 - val_accuracy: 0.9891\n",
      "Epoch 19/20\n",
      "60/60 [==============================] - 1s 19ms/step - loss: 0.0095 - accuracy: 0.9964 - val_loss: 0.0697 - val_accuracy: 0.9875\n",
      "Epoch 20/20\n",
      "60/60 [==============================] - 1s 19ms/step - loss: 0.0077 - accuracy: 0.9974 - val_loss: 0.0739 - val_accuracy: 0.9844\n"
     ]
    }
   ],
   "source": [
    "# Best output from RandomSearch\n",
    "\n",
    "# Trial summary\n",
    "# Hyperparameters:\n",
    "# layers: 3\n",
    "# units_0: 480\n",
    "# act_0: sigmoid\n",
    "# units_1: 224\n",
    "# act_1: relu\n",
    "# learning_rate: 0.001\n",
    "# units_2: 32\n",
    "# act_2: relu\n",
    "# Score: 0.9901041587193807\n",
    "\n",
    "### CNN MODEL\n",
    "\n",
    "model = tf.keras.Sequential()\n",
    "model.add(tf.keras.layers.Conv2D(32, (5, 5), activation='relu', input_shape=(128, 64, 3)))\n",
    "model.add(tf.keras.layers.MaxPooling2D((2, 2)))\n",
    "model.add(tf.keras.layers.Dropout(0.2))\n",
    "\n",
    "model.add(tf.keras.layers.Conv2D(64, (3, 3), activation='relu'))\n",
    "model.add(tf.keras.layers.MaxPooling2D((2, 2)))\n",
    "model.add(tf.keras.layers.Dropout(0.2))\n",
    "\n",
    "model.add(tf.keras.layers.Conv2D(128, (3, 3), activation='relu'))\n",
    "model.add(tf.keras.layers.MaxPooling2D((2, 2)))\n",
    "model.add(tf.keras.layers.Dropout(0.2))\n",
    "model.add(tf.keras.layers.Flatten())\n",
    "\n",
    "model.add(tf.keras.layers.Dense(480, activation='sigmoid'))\n",
    "model.add(tf.keras.layers.Dropout(0.2))\n",
    "model.add(tf.keras.layers.Dense(224, activation='relu'))\n",
    "model.add(tf.keras.layers.Dropout(0.2))\n",
    "model.add(tf.keras.layers.Dense(32, activation='relu'))\n",
    "model.add(tf.keras.layers.Dropout(0.2))\n",
    "model.add(tf.keras.layers.Dense(4, activation='softmax'))\n",
    "\n",
    "optimizer_adam = Adam(learning_rate=0.001)\n",
    "\n",
    "model.summary()\n",
    "\n",
    "model.compile(optimizer=optimizer_adam,\n",
    "              loss='categorical_crossentropy',\n",
    "              metrics=['accuracy'])\n",
    "history = model.fit(X_train_color, y_train_color, epochs=20, verbose=1, validation_data=(X_valid_color, y_valid_color))"
   ]
  },
  {
   "cell_type": "code",
   "execution_count": 9,
   "id": "2f3acd99-18bb-4dc4-847b-47be377c2343",
   "metadata": {},
   "outputs": [
    {
     "name": "stdout",
     "output_type": "stream",
     "text": [
      "20/20 [==============================] - 0s 10ms/step - loss: 0.0739 - accuracy: 0.9844\n",
      "Accuracy:0.984375\n"
     ]
    }
   ],
   "source": [
    "# Accuracy on validation set\n",
    "[loss, acc] = model.evaluate(X_valid_color, y_valid_color, verbose=1)\n",
    "print(\"Accuracy:\" + str(acc))"
   ]
  },
  {
   "cell_type": "code",
   "execution_count": 10,
   "id": "839ba4a3-f1e8-45c7-9e72-fff442e9cdf4",
   "metadata": {},
   "outputs": [
    {
     "data": {
      "image/png": "[encoded data removed]",
      "text/plain": [
       "<Figure size 432x288 with 1 Axes>"
      ]
     },
     "metadata": {},
     "output_type": "display_data"
    }
   ],
   "source": [
    "#Show train vs validation loss\n",
    "\n",
    "plt.style.use('ggplot')\n",
    "plt.plot(history.history['loss'], label = 'loss')\n",
    "plt.plot(history.history['val_loss'], label='val loss')\n",
    "plt.title(\"Loss vs Val_Loss\")\n",
    "plt.xlabel(\"Epochs\")\n",
    "plt.ylabel(\"Loss\")\n",
    "plt.legend()\n",
    "plt.show()"
   ]
  },
  {
   "cell_type": "code",
   "execution_count": 11,
   "id": "2199adfa-6b8d-485c-8c81-b97e6c5feb79",
   "metadata": {},
   "outputs": [
    {
     "name": "stdout",
     "output_type": "stream",
     "text": [
      "20/20 [==============================] - 0s 7ms/step - loss: 0.0687 - accuracy: 0.9906\n"
     ]
    },
    {
     "data": {
      "text/plain": [
       "[0.0687379464507103, 0.9906250238418579]"
      ]
     },
     "execution_count": 11,
     "metadata": {},
     "output_type": "execute_result"
    }
   ],
   "source": [
    "# Accuracy on test set\n",
    "model.evaluate(X_test_color, y_test_color)"
   ]
  },
  {
   "cell_type": "code",
   "execution_count": 12,
   "id": "b2163c03-d738-4d6e-8b0c-22bba4ab1041",
   "metadata": {},
   "outputs": [],
   "source": [
    "# Save model\n",
    "model.save('CNN_2_color_model',save_format='h5')"
   ]
  },
  {
   "cell_type": "code",
   "execution_count": 5,
   "id": "8cb2b5d4-5efa-43e6-bb06-4c20966dd73c",
   "metadata": {},
   "outputs": [],
   "source": [
    "# Load model\n",
    "model = tf.keras.models.load_model('CNN_2_color_model')"
   ]
  },
  {
   "cell_type": "code",
   "execution_count": 6,
   "id": "2bda96ee-edfa-4a3a-9baa-1f9162274ea4",
   "metadata": {},
   "outputs": [
    {
     "name": "stdout",
     "output_type": "stream",
     "text": [
      "20/20 [==============================] - 4s 7ms/step - loss: 0.0687 - accuracy: 0.9906\n"
     ]
    },
    {
     "data": {
      "text/plain": [
       "[0.0687379464507103, 0.9906250238418579]"
      ]
     },
     "execution_count": 6,
     "metadata": {},
     "output_type": "execute_result"
    }
   ],
   "source": [
    "# Accuracy on test set\n",
    "model.evaluate(X_test_color, y_test_color)"
   ]
  },
  {
   "cell_type": "code",
   "execution_count": 8,
   "id": "2976994d-981f-4557-b9cf-c053cfc8ef90",
   "metadata": {},
   "outputs": [
    {
     "name": "stdout",
     "output_type": "stream",
     "text": [
      "20/20 [==============================] - 0s 5ms/step\n",
      "               precision    recall  f1-score   support\n",
      "\n",
      "Left to right     0.9753    0.9875    0.9814       160\n",
      "         Pull     0.9876    0.9938    0.9907       160\n",
      "         Push     1.0000    0.9812    0.9905       160\n",
      "Right to left     1.0000    1.0000    1.0000       160\n",
      "\n",
      "     accuracy                         0.9906       640\n",
      "    macro avg     0.9907    0.9906    0.9906       640\n",
      " weighted avg     0.9907    0.9906    0.9906       640\n",
      "\n"
     ]
    }
   ],
   "source": [
    "# Predict the values from the validation dataset and convert predictions classes to one hot vectors\n",
    "categories = ['Left to right', \"Pull\", \"Push\", \"Right to left\"]\n",
    "y_pred = np.argmax(model.predict(X_test_color), axis=-1)\n",
    "\n",
    "# Convert validation observations to one hot vectors\n",
    "y_true = np.argmax(y_test_color, axis=-1)\n",
    "\n",
    "# Print Classification report\n",
    "print(classification_report(y_true, y_pred, target_names=categories, digits=4))"
   ]
  },
  {
   "cell_type": "code",
   "execution_count": 9,
   "id": "9cccb053-5005-4500-ace4-3a772b78776f",
   "metadata": {},
   "outputs": [
    {
     "data": {
      "image/png": "[encoded data removed]",
      "text/plain": [
       "<Figure size 504x360 with 2 Axes>"
      ]
     },
     "metadata": {
      "needs_background": "light"
     },
     "output_type": "display_data"
    }
   ],
   "source": [
    "# Compute the confusion matrix\n",
    "confusion_mtx = confusion_matrix(y_true, y_pred) \n",
    "# Plot the confusion matrix\n",
    "categories = ['Left to right', \"Pull\", \"Push\", \"Right to left\"]\n",
    "f, ax = plt.subplots(figsize=(7, 5))\n",
    "sns.heatmap(confusion_mtx, annot=True, linewidths=0.01,cmap=\"Blues\",linecolor=\"grey\", fmt= 'g',ax=ax, xticklabels=categories, yticklabels=categories)\n",
    "plt.xlabel(\"Predicted action\", fontsize=12)\n",
    "plt.ylabel(\"True action\", fontsize=12)\n",
    "plt.title(\"Confusion Matrix CNN-2 Color\")\n",
    "locs, labels = plt.yticks()\n",
    "plt.setp(labels, rotation=45)\n",
    "plt.show()"
   ]
  },
  {
   "cell_type": "code",
   "execution_count": null,
   "id": "7c7f9ba1-4804-4fcc-9632-dee299130ea9",
   "metadata": {},
   "outputs": [],
   "source": []
  }
 ],
 "metadata": {
  "kernelspec": {
   "display_name": "Python 3",
   "language": "python",
   "name": "python3"
  },
  "language_info": {
   "codemirror_mode": {
    "name": "ipython",
    "version": 3
   },
   "file_extension": ".py",
   "mimetype": "text/x-python",
   "name": "python",
   "nbconvert_exporter": "python",
   "pygments_lexer": "ipython3",
   "version": "3.8.8"
  }
 },
 "nbformat": 4,
 "nbformat_minor": 5
}
