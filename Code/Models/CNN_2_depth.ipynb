{
 "cells": [
  {
   "cell_type": "code",
   "execution_count": 1,
   "id": "010c93ff-9253-409e-91c7-76ff8489cb84",
   "metadata": {},
   "outputs": [],
   "source": [
    "# Import libraries\n",
    "\n",
    "import numpy as np\n",
    "import pickle\n",
    "import tensorflow as tf\n",
    "from keras.utils import to_categorical\n",
    "import matplotlib.pyplot as plt\n",
    "from sklearn.metrics import classification_report, confusion_matrix\n",
    "import seaborn as sns\n",
    "from tensorflow import keras\n",
    "from tensorflow.keras import layers\n",
    "from tensorflow.keras.optimizers import Adam"
   ]
  },
  {
   "cell_type": "code",
   "execution_count": 2,
   "id": "e8b93cfe-5c75-461d-bd53-7521e2fe8341",
   "metadata": {},
   "outputs": [],
   "source": [
    "# Function to load X values\n",
    "def load_depth_inputs():\n",
    "    X_train_depth = pickle.load(open('E:/training_depth.pkl', \"rb\"))\n",
    "    X_valid_depth = pickle.load(open('E:/validation_depth.pkl', \"rb\"))\n",
    "    X_test_depth = pickle.load(open('E:/testing_depth.pkl', \"rb\"))\n",
    "    return X_train_depth, X_valid_depth, X_test_depth\n",
    "\n",
    "# Function to load y values\n",
    "def load_outputs():\n",
    "    y_train = pickle.load(open('E:/y_training.pkl', \"rb\"))\n",
    "    y_valid = pickle.load(open('E:/y_validation.pkl', \"rb\"))\n",
    "    y_test = pickle.load(open('E:/y_testing.pkl', \"rb\"))\n",
    "    return y_train, y_valid, y_test\n",
    "\n",
    "# Function to reshape data\n",
    "def reshape_input_vect(vect, size=(128, 64, 3)):\n",
    "    inp_vect = []\n",
    "    for i in range(vect.shape[0]):\n",
    "        inp_vect.append(np.reshape(vect[i], (128, 64, 3)))\n",
    "    return np.asarray(inp_vect)\n",
    "\n",
    "# Load in X data\n",
    "X_train_depth, X_valid_depth, X_test_depth = load_depth_inputs()\n",
    "\n",
    "# Load in y data\n",
    "y_train_depth, y_valid_depth, y_test_depth = load_outputs()\n",
    "\n",
    "# To categorical y-values [[1, 0, 0, 0], [0, 1, 0, 0], [0, 0, 1, 0], [0, 0, 0, 1]]\n",
    "y_train_depth = to_categorical(y_train_depth, num_classes = None, dtype='float32')\n",
    "y_valid_depth = to_categorical(y_valid_depth, num_classes = None, dtype='float32')\n",
    "y_test_depth = to_categorical(y_test_depth, num_classes = None, dtype='float32')"
   ]
  },
  {
   "cell_type": "code",
   "execution_count": 3,
   "id": "59771b99-aba9-4c1d-b4b1-e04bbcbd5f63",
   "metadata": {},
   "outputs": [],
   "source": [
    "# Shuffle data\n",
    "np.random.seed(200)\n",
    "X_train_depth, X_valid_depth, X_test_depth = np.random.permutation(X_train_depth), np.random.permutation(\n",
    "    X_valid_depth), np.random.permutation(X_test_depth)\n",
    "np.random.seed(200)\n",
    "y_train_depth, y_valid_depth, y_test_depth = np.random.permutation(y_train_depth), np.random.permutation(\n",
    "    y_valid_depth), np.random.permutation(y_test_depth)"
   ]
  },
  {
   "cell_type": "code",
   "execution_count": 4,
   "id": "167f8343-7bff-44c6-8184-94f50f60ca29",
   "metadata": {},
   "outputs": [
    {
     "name": "stdout",
     "output_type": "stream",
     "text": [
      "new shape: (1920, 128, 64, 3)\n",
      "new shape: (640, 128, 64, 3)\n",
      "new shape: (640, 128, 64, 3)\n"
     ]
    }
   ],
   "source": [
    "# Reshape data\n",
    "X_train_depth, X_valid_depth, X_test_depth = reshape_input_vect(X_train_depth), reshape_input_vect(X_valid_depth), reshape_input_vect(X_test_depth)\n",
    "print(\"new shape:\", X_train_depth.shape)\n",
    "print(\"new shape:\", X_valid_depth.shape)\n",
    "print(\"new shape:\", X_test_depth.shape)"
   ]
  },
  {
   "cell_type": "code",
   "execution_count": 5,
   "id": "ee79a727-f942-41e2-a45e-c554f97968bb",
   "metadata": {},
   "outputs": [
    {
     "data": {
      "image/png": "[encoded data removed]",
      "text/plain": [
       "<Figure size 432x288 with 1 Axes>"
      ]
     },
     "metadata": {
      "needs_background": "light"
     },
     "output_type": "display_data"
    }
   ],
   "source": [
    "# Show first training image\n",
    "plt.imshow(X_train_depth[0])\n",
    "plt.show()"
   ]
  },
  {
   "cell_type": "code",
   "execution_count": 7,
   "id": "9b283358-a65b-4f74-97b0-8b7c46403aa4",
   "metadata": {},
   "outputs": [
    {
     "name": "stdout",
     "output_type": "stream",
     "text": [
      "Model: \"sequential_1\"\n",
      "_________________________________________________________________\n",
      " Layer (type)                Output Shape              Param #   \n",
      "=================================================================\n",
      " conv2d_3 (Conv2D)           (None, 124, 60, 32)       2432      \n",
      "                                                                 \n",
      " max_pooling2d_3 (MaxPooling  (None, 62, 30, 32)       0         \n",
      " 2D)                                                             \n",
      "                                                                 \n",
      " dropout_4 (Dropout)         (None, 62, 30, 32)        0         \n",
      "                                                                 \n",
      " conv2d_4 (Conv2D)           (None, 60, 28, 64)        18496     \n",
      "                                                                 \n",
      " max_pooling2d_4 (MaxPooling  (None, 30, 14, 64)       0         \n",
      " 2D)                                                             \n",
      "                                                                 \n",
      " dropout_5 (Dropout)         (None, 30, 14, 64)        0         \n",
      "                                                                 \n",
      " conv2d_5 (Conv2D)           (None, 28, 12, 128)       73856     \n",
      "                                                                 \n",
      " max_pooling2d_5 (MaxPooling  (None, 14, 6, 128)       0         \n",
      " 2D)                                                             \n",
      "                                                                 \n",
      " dropout_6 (Dropout)         (None, 14, 6, 128)        0         \n",
      "                                                                 \n",
      " flatten_1 (Flatten)         (None, 10752)             0         \n",
      "                                                                 \n",
      " dense_3 (Dense)             (None, 32)                344096    \n",
      "                                                                 \n",
      " dense_4 (Dense)             (None, 32)                1056      \n",
      "                                                                 \n",
      " dense_5 (Dense)             (None, 4)                 132       \n",
      "                                                                 \n",
      "=================================================================\n",
      "Total params: 440,068\n",
      "Trainable params: 440,068\n",
      "Non-trainable params: 0\n",
      "_________________________________________________________________\n",
      "Epoch 1/20\n",
      "60/60 [==============================] - 2s 21ms/step - loss: 1.3890 - accuracy: 0.2432 - val_loss: 1.3863 - val_accuracy: 0.2500\n",
      "Epoch 2/20\n",
      "60/60 [==============================] - 1s 17ms/step - loss: 1.3864 - accuracy: 0.2500 - val_loss: 1.3863 - val_accuracy: 0.2500\n",
      "Epoch 3/20\n",
      "60/60 [==============================] - 1s 17ms/step - loss: 1.3863 - accuracy: 0.2417 - val_loss: 1.3855 - val_accuracy: 0.2516\n",
      "Epoch 4/20\n",
      "60/60 [==============================] - 1s 17ms/step - loss: 1.3747 - accuracy: 0.3490 - val_loss: 1.3186 - val_accuracy: 0.4844\n",
      "Epoch 5/20\n",
      "60/60 [==============================] - 1s 17ms/step - loss: 0.9428 - accuracy: 0.6693 - val_loss: 0.3662 - val_accuracy: 0.9250\n",
      "Epoch 6/20\n",
      "60/60 [==============================] - 1s 17ms/step - loss: 0.3512 - accuracy: 0.8927 - val_loss: 0.2513 - val_accuracy: 0.9359\n",
      "Epoch 7/20\n",
      "60/60 [==============================] - 1s 17ms/step - loss: 0.2954 - accuracy: 0.8990 - val_loss: 0.2083 - val_accuracy: 0.9328\n",
      "Epoch 8/20\n",
      "60/60 [==============================] - 1s 17ms/step - loss: 0.2687 - accuracy: 0.9109 - val_loss: 0.1987 - val_accuracy: 0.9484\n",
      "Epoch 9/20\n",
      "60/60 [==============================] - 1s 17ms/step - loss: 0.2402 - accuracy: 0.9312 - val_loss: 0.1862 - val_accuracy: 0.9453\n",
      "Epoch 10/20\n",
      "60/60 [==============================] - 1s 17ms/step - loss: 0.2185 - accuracy: 0.9286 - val_loss: 0.1725 - val_accuracy: 0.9547\n",
      "Epoch 11/20\n",
      "60/60 [==============================] - 1s 18ms/step - loss: 0.2101 - accuracy: 0.9323 - val_loss: 0.1666 - val_accuracy: 0.9438\n",
      "Epoch 12/20\n",
      "60/60 [==============================] - 1s 17ms/step - loss: 0.2164 - accuracy: 0.9240 - val_loss: 0.1503 - val_accuracy: 0.9547\n",
      "Epoch 13/20\n",
      "60/60 [==============================] - 1s 17ms/step - loss: 0.2238 - accuracy: 0.9255 - val_loss: 0.1464 - val_accuracy: 0.9547\n",
      "Epoch 14/20\n",
      "60/60 [==============================] - 1s 17ms/step - loss: 0.1687 - accuracy: 0.9453 - val_loss: 0.1339 - val_accuracy: 0.9563\n",
      "Epoch 15/20\n",
      "60/60 [==============================] - 1s 17ms/step - loss: 0.1663 - accuracy: 0.9385 - val_loss: 0.2226 - val_accuracy: 0.9391\n",
      "Epoch 16/20\n",
      "60/60 [==============================] - 1s 17ms/step - loss: 0.1837 - accuracy: 0.9349 - val_loss: 0.1129 - val_accuracy: 0.9672\n",
      "Epoch 17/20\n",
      "60/60 [==============================] - 1s 17ms/step - loss: 0.1389 - accuracy: 0.9500 - val_loss: 0.1430 - val_accuracy: 0.9609\n",
      "Epoch 18/20\n",
      "60/60 [==============================] - 1s 17ms/step - loss: 0.1560 - accuracy: 0.9438 - val_loss: 0.1139 - val_accuracy: 0.9656\n",
      "Epoch 19/20\n",
      "60/60 [==============================] - 1s 17ms/step - loss: 0.1182 - accuracy: 0.9594 - val_loss: 0.1210 - val_accuracy: 0.9672\n",
      "Epoch 20/20\n",
      "60/60 [==============================] - 1s 17ms/step - loss: 0.0904 - accuracy: 0.9724 - val_loss: 0.1440 - val_accuracy: 0.9641\n"
     ]
    }
   ],
   "source": [
    "### CNN MODEL\n",
    "# This model was modified in order for it to learn. The complexity of the model was reduced by removing a dropout layer, a hidden layer and reducing the amount of nodes from 224 to 64. \n",
    "\n",
    "model = tf.keras.Sequential()\n",
    "model.add(tf.keras.layers.Conv2D(32, (5, 5), activation='relu', input_shape=(128, 64, 3)))\n",
    "model.add(tf.keras.layers.MaxPooling2D((2, 2)))\n",
    "model.add(tf.keras.layers.Dropout(0.2))\n",
    "\n",
    "model.add(tf.keras.layers.Conv2D(64, (3, 3), activation='relu'))\n",
    "model.add(tf.keras.layers.MaxPooling2D((2, 2)))\n",
    "model.add(tf.keras.layers.Dropout(0.2))\n",
    "\n",
    "model.add(tf.keras.layers.Conv2D(128, (3, 3), activation='relu'))\n",
    "model.add(tf.keras.layers.MaxPooling2D((2, 2)))\n",
    "model.add(tf.keras.layers.Dropout(0.2))\n",
    "model.add(tf.keras.layers.Flatten())\n",
    "\n",
    "model.add(tf.keras.layers.Dense(32, activation='relu'))\n",
    "model.add(tf.keras.layers.Dense(32, activation='relu'))\n",
    "model.add(tf.keras.layers.Dense(4, activation='softmax'))\n",
    "\n",
    "optimizer_adam = Adam(learning_rate=0.001)\n",
    "\n",
    "model.summary()\n",
    "\n",
    "model.compile(optimizer=optimizer_adam,\n",
    "              loss='categorical_crossentropy',\n",
    "              metrics=['accuracy'])\n",
    "history = model.fit(X_train_depth, y_train_depth, epochs=20, verbose=1, validation_data=(X_valid_depth, y_valid_depth))"
   ]
  },
  {
   "cell_type": "code",
   "execution_count": 8,
   "id": "034faf32-f042-46d6-b5e0-d225c0e22f53",
   "metadata": {},
   "outputs": [
    {
     "name": "stdout",
     "output_type": "stream",
     "text": [
      "20/20 [==============================] - 0s 12ms/step - loss: 0.1440 - accuracy: 0.9641\n",
      "Accuracy:0.964062511920929\n"
     ]
    }
   ],
   "source": [
    "# Accuracy on validation set\n",
    "[loss, acc] = model.evaluate(X_valid_depth, y_valid_depth, verbose=1)\n",
    "print(\"Accuracy:\" + str(acc))"
   ]
  },
  {
   "cell_type": "code",
   "execution_count": 9,
   "id": "f79c1125-c7cb-467f-95ad-137efaf0cd5c",
   "metadata": {},
   "outputs": [
    {
     "data": {
      "image/png": "[encoded data removed]",
      "text/plain": [
       "<Figure size 432x288 with 1 Axes>"
      ]
     },
     "metadata": {},
     "output_type": "display_data"
    }
   ],
   "source": [
    "#Show train vs validation loss\n",
    "\n",
    "plt.style.use('ggplot')\n",
    "plt.plot(history.history['loss'], label = 'loss')\n",
    "plt.plot(history.history['val_loss'], label='val loss')\n",
    "plt.title(\"Loss vs Val_Loss\")\n",
    "plt.xlabel(\"Epochs\")\n",
    "plt.ylabel(\"Loss\")\n",
    "plt.legend()\n",
    "plt.show()"
   ]
  },
  {
   "cell_type": "code",
   "execution_count": 10,
   "id": "dc0a7a25-1ac4-4eab-ac71-263a05078111",
   "metadata": {},
   "outputs": [
    {
     "name": "stdout",
     "output_type": "stream",
     "text": [
      "20/20 [==============================] - 0s 6ms/step - loss: 0.2006 - accuracy: 0.9516\n"
     ]
    },
    {
     "data": {
      "text/plain": [
       "[0.20060308277606964, 0.9515625238418579]"
      ]
     },
     "execution_count": 10,
     "metadata": {},
     "output_type": "execute_result"
    }
   ],
   "source": [
    "# Accuracy on test set\n",
    "model.evaluate(X_test_depth, y_test_depth)"
   ]
  },
  {
   "cell_type": "code",
   "execution_count": 11,
   "id": "95f2ad3c-a8c0-48e8-be7a-7555fb6b2845",
   "metadata": {},
   "outputs": [],
   "source": [
    "# Save model\n",
    "model.save('CNN_2_depth_model',save_format='h5')"
   ]
  },
  {
   "cell_type": "code",
   "execution_count": 6,
   "id": "9cb848b7-1ed6-47d8-bf9c-5b0200a7ce00",
   "metadata": {},
   "outputs": [],
   "source": [
    "# Load model\n",
    "model = tf.keras.models.load_model('CNN_2_depth_model')"
   ]
  },
  {
   "cell_type": "code",
   "execution_count": 7,
   "id": "16f8234a-277b-4385-b353-38e5a02ad464",
   "metadata": {},
   "outputs": [
    {
     "name": "stdout",
     "output_type": "stream",
     "text": [
      "20/20 [==============================] - 2s 6ms/step - loss: 0.2006 - accuracy: 0.9516\n"
     ]
    },
    {
     "data": {
      "text/plain": [
       "[0.20060308277606964, 0.9515625238418579]"
      ]
     },
     "execution_count": 7,
     "metadata": {},
     "output_type": "execute_result"
    }
   ],
   "source": [
    "# Accuracy on test set\n",
    "model.evaluate(X_test_depth, y_test_depth)"
   ]
  },
  {
   "cell_type": "code",
   "execution_count": 8,
   "id": "e4d0d9ed-71f1-4435-9703-a34e43cc94f5",
   "metadata": {},
   "outputs": [
    {
     "name": "stdout",
     "output_type": "stream",
     "text": [
      "20/20 [==============================] - 0s 5ms/step\n",
      "               precision    recall  f1-score   support\n",
      "\n",
      "Left to right     0.8864    0.9750    0.9286       160\n",
      "         Pull     0.9739    0.9313    0.9521       160\n",
      "         Push     0.9805    0.9437    0.9618       160\n",
      "Right to left     0.9745    0.9563    0.9653       160\n",
      "\n",
      "     accuracy                         0.9516       640\n",
      "    macro avg     0.9538    0.9516    0.9519       640\n",
      " weighted avg     0.9538    0.9516    0.9519       640\n",
      "\n"
     ]
    }
   ],
   "source": [
    "# Predict the values from the validation dataset and convert predictions classes to one hot vectors\n",
    "categories = ['Left to right', \"Pull\", \"Push\", \"Right to left\"]\n",
    "y_pred = np.argmax(model.predict(X_test_depth), axis=-1)\n",
    "\n",
    "# Convert validation observations to one hot vectors\n",
    "y_true = np.argmax(y_test_depth, axis=-1)\n",
    "\n",
    "# Print Classification report\n",
    "print(classification_report(y_true, y_pred, target_names=categories, digits=4))"
   ]
  },
  {
   "cell_type": "code",
   "execution_count": 9,
   "id": "fd1930f0-2aef-4ba1-8f6e-43fd6382cccd",
   "metadata": {},
   "outputs": [
    {
     "data": {
      "image/png": "[encoded data removed]",
      "text/plain": [
       "<Figure size 504x360 with 2 Axes>"
      ]
     },
     "metadata": {
      "needs_background": "light"
     },
     "output_type": "display_data"
    }
   ],
   "source": [
    "# Compute the confusion matrix\n",
    "confusion_mtx = confusion_matrix(y_true, y_pred) \n",
    "# Plot the confusion matrix\n",
    "categories = ['Left to right', \"Pull\", \"Push\", \"Right to left\"]\n",
    "f, ax = plt.subplots(figsize=(7, 5))\n",
    "sns.heatmap(confusion_mtx, annot=True, linewidths=0.01,cmap=\"Blues\", linecolor=\"grey\", fmt= 'g',ax=ax, xticklabels=categories, yticklabels=categories)\n",
    "plt.xlabel(\"Predicted action\", fontsize=12)\n",
    "plt.ylabel(\"True action\", fontsize=12)\n",
    "plt.title(\"Confusion Matrix CNN-2 Depth\")\n",
    "locs, labels = plt.yticks()\n",
    "plt.setp(labels, rotation=45)\n",
    "plt.show()"
   ]
  },
  {
   "cell_type": "code",
   "execution_count": null,
   "id": "044990f7-7e3f-47ba-8874-a4895509cf13",
   "metadata": {},
   "outputs": [],
   "source": []
  }
 ],
 "metadata": {
  "kernelspec": {
   "display_name": "Python 3",
   "language": "python",
   "name": "python3"
  },
  "language_info": {
   "codemirror_mode": {
    "name": "ipython",
    "version": 3
   },
   "file_extension": ".py",
   "mimetype": "text/x-python",
   "name": "python",
   "nbconvert_exporter": "python",
   "pygments_lexer": "ipython3",
   "version": "3.8.8"
  }
 },
 "nbformat": 4,
 "nbformat_minor": 5
}
