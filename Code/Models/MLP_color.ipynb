{
 "cells": [
  {
   "cell_type": "code",
   "execution_count": 1,
   "id": "2611fc38-4cd2-4b5f-9e6e-cd437f0b893a",
   "metadata": {},
   "outputs": [],
   "source": [
    "# Import libraries\n",
    "\n",
    "import numpy as np\n",
    "import pickle\n",
    "from sklearn.neural_network import MLPClassifier\n",
    "from sklearn.model_selection import GridSearchCV\n",
    "from sklearn.metrics import classification_report, confusion_matrix\n",
    "from sklearn.metrics import accuracy_score\n",
    "import matplotlib.pyplot as plt\n",
    "import seaborn as sns"
   ]
  },
  {
   "cell_type": "code",
   "execution_count": 2,
   "id": "75a9a53d-d72a-4f92-8c9e-3cd5aeac92d3",
   "metadata": {},
   "outputs": [],
   "source": [
    "# Function to load X values\n",
    "def load_color_inputs():\n",
    "    X_train_color = pickle.load(open('E:/training_color.pkl', \"rb\"))\n",
    "    X_valid_color = pickle.load(open('E:/validation_color.pkl', \"rb\"))\n",
    "    X_test_color = pickle.load(open('E:/testing_color.pkl', \"rb\"))\n",
    "    return X_train_color, X_valid_color, X_test_color\n",
    "\n",
    "# Function to load y values\n",
    "def load_outputs():\n",
    "    y_train = pickle.load(open('E:/y_training.pkl', \"rb\"))\n",
    "    y_valid = pickle.load(open('E:/y_validation.pkl', \"rb\"))\n",
    "    y_test = pickle.load(open('E:/y_testing.pkl', \"rb\"))\n",
    "    return y_train, y_valid, y_test\n",
    "\n",
    "# Load in X, y data\n",
    "X_train_color, X_valid_color, X_test_color = load_color_inputs()\n",
    "y_train_color, y_valid_color, y_test_color = load_outputs()\n",
    "\n",
    "# Shuffle data\n",
    "np.random.seed(200)\n",
    "X_train_color, X_valid_color, X_test_color = np.random.permutation(X_train_color), np.random.permutation(X_valid_color), np.random.permutation(X_test_color)\n",
    "np.random.seed(200)\n",
    "y_train_color, y_valid_color, y_test_color = np.random.permutation(y_train_color), np.random.permutation(y_valid_color), np.random.permutation(y_test_color)"
   ]
  },
  {
   "cell_type": "code",
   "execution_count": 5,
   "id": "4a8ad033-b3f5-4291-a552-7ca9cd9076fc",
   "metadata": {},
   "outputs": [
    {
     "name": "stdout",
     "output_type": "stream",
     "text": [
      "{'activation': 'tanh', 'alpha': 0.0001, 'early_stopping': False, 'hidden_layer_sizes': (120, 80, 40), 'learning_rate': 'adaptive', 'max_iter': 150, 'solver': 'sgd'}\n"
     ]
    },
    {
     "name": "stderr",
     "output_type": "stream",
     "text": [
      "C:\\Users\\kaskn\\anaconda3\\lib\\site-packages\\sklearn\\neural_network\\_multilayer_perceptron.py:614: ConvergenceWarning: Stochastic Optimizer: Maximum iterations (150) reached and the optimization hasn't converged yet.\n",
      "  warnings.warn(\n"
     ]
    }
   ],
   "source": [
    "# Hyper parameter tuning using GridSearch\n",
    "param_grid = {\n",
    "    'hidden_layer_sizes': [(150,100,50), (120,80,40), (100,50,25)],\n",
    "    'max_iter': [100, 150],\n",
    "    'activation': ['tanh', 'relu'],\n",
    "    'solver': ['sgd', 'adam'],\n",
    "    'alpha': [0.0001, 0.001, 0.01],\n",
    "    'learning_rate': ['constant', 'adaptive'],\n",
    "    'early_stopping': [True, False]\n",
    "}\n",
    "grid = GridSearchCV(clf, param_grid, n_jobs= -1, cv=5)\n",
    "grid.fit(X_train_color, y_train_color)\n",
    "\n",
    "print(grid.best_params_)"
   ]
  },
  {
   "cell_type": "code",
   "execution_count": 3,
   "id": "a4be2470-a02e-4d74-9717-5165548c06ba",
   "metadata": {},
   "outputs": [
    {
     "name": "stderr",
     "output_type": "stream",
     "text": [
      "C:\\Users\\kaskn\\anaconda3\\lib\\site-packages\\sklearn\\neural_network\\_multilayer_perceptron.py:614: ConvergenceWarning: Stochastic Optimizer: Maximum iterations (500) reached and the optimization hasn't converged yet.\n",
      "  warnings.warn(\n"
     ]
    }
   ],
   "source": [
    "clf = MLPClassifier(random_state=1,alpha=0.0001, early_stopping=False, hidden_layer_sizes=(120, 80, 40), learning_rate='adaptive', max_iter=500, activation='tanh', solver='sgd').fit(X_train_color, y_train_color)"
   ]
  },
  {
   "cell_type": "code",
   "execution_count": 5,
   "id": "ba6ecdce-f7e4-4417-9e98-475a7527f347",
   "metadata": {},
   "outputs": [
    {
     "data": {
      "text/plain": [
       "{'activation': 'tanh',\n",
       " 'alpha': 0.0001,\n",
       " 'batch_size': 'auto',\n",
       " 'beta_1': 0.9,\n",
       " 'beta_2': 0.999,\n",
       " 'early_stopping': False,\n",
       " 'epsilon': 1e-08,\n",
       " 'hidden_layer_sizes': (120, 80, 40),\n",
       " 'learning_rate': 'adaptive',\n",
       " 'learning_rate_init': 0.001,\n",
       " 'max_fun': 15000,\n",
       " 'max_iter': 500,\n",
       " 'momentum': 0.9,\n",
       " 'n_iter_no_change': 10,\n",
       " 'nesterovs_momentum': True,\n",
       " 'power_t': 0.5,\n",
       " 'random_state': 1,\n",
       " 'shuffle': True,\n",
       " 'solver': 'sgd',\n",
       " 'tol': 0.0001,\n",
       " 'validation_fraction': 0.1,\n",
       " 'verbose': False,\n",
       " 'warm_start': False}"
      ]
     },
     "execution_count": 5,
     "metadata": {},
     "output_type": "execute_result"
    }
   ],
   "source": [
    "clf.get_params()"
   ]
  },
  {
   "cell_type": "code",
   "execution_count": 4,
   "id": "b551143c-b451-4119-838b-619896483a47",
   "metadata": {},
   "outputs": [
    {
     "name": "stdout",
     "output_type": "stream",
     "text": [
      "Accuracy: 0.971875\n"
     ]
    }
   ],
   "source": [
    "# Test accuracy on Validation set\n",
    "y_pred = clf.predict(X_valid_color)\n",
    "print('Accuracy: {:.6f}'.format(accuracy_score(y_valid_color, y_pred)))"
   ]
  },
  {
   "cell_type": "code",
   "execution_count": 6,
   "id": "c58ee42e-12de-422f-b8b6-36bf27f1aa6c",
   "metadata": {},
   "outputs": [],
   "source": [
    "# Save Model\n",
    "pickle.dump(clf, open(r\"MLP_color_model\", \"wb\"))"
   ]
  },
  {
   "cell_type": "code",
   "execution_count": 3,
   "id": "9bea68d6-efbe-4f4c-bf62-a21778d0a705",
   "metadata": {},
   "outputs": [],
   "source": [
    "# Load Model\n",
    "model = pickle.load(open(r\"MLP_color_model\", \"rb\"))"
   ]
  },
  {
   "cell_type": "code",
   "execution_count": 8,
   "id": "c982c25f-5acc-4960-9de9-2eb2b58d0183",
   "metadata": {},
   "outputs": [
    {
     "name": "stdout",
     "output_type": "stream",
     "text": [
      "Accuracy: 0.985938\n"
     ]
    }
   ],
   "source": [
    "# Test accuracy on Test set\n",
    "y_pred = clf.predict(X_test_color)\n",
    "print('Accuracy: {:.6f}'.format(accuracy_score(y_test_color, y_pred)))"
   ]
  },
  {
   "cell_type": "code",
   "execution_count": 9,
   "id": "dfe11e0d-0dca-46eb-9cfa-890c767ee858",
   "metadata": {},
   "outputs": [
    {
     "name": "stdout",
     "output_type": "stream",
     "text": [
      "               precision    recall  f1-score   support\n",
      "\n",
      "Left to right     0.9695    0.9938    0.9815       160\n",
      "         Pull     0.9937    0.9812    0.9874       160\n",
      "         Push     0.9874    0.9812    0.9843       160\n",
      "Right to left     0.9937    0.9875    0.9906       160\n",
      "\n",
      "     accuracy                         0.9859       640\n",
      "    macro avg     0.9861    0.9859    0.9860       640\n",
      " weighted avg     0.9861    0.9859    0.9860       640\n",
      "\n"
     ]
    }
   ],
   "source": [
    "# Predict the values from the validation dataset and convert predictions classes to one hot vectors\n",
    "categories = ['Left to right', \"Pull\", \"Push\", \"Right to left\"]\n",
    "y_pred = model.predict(X_test_color)\n",
    "\n",
    "print(classification_report(y_test_color, y_pred, target_names=categories, digits=4))"
   ]
  },
  {
   "cell_type": "code",
   "execution_count": 10,
   "id": "df57c358-9c77-47a8-af31-35a48f8f2940",
   "metadata": {},
   "outputs": [
    {
     "data": {
      "image/png": "[encoded data removed]",
      "text/plain": [
       "<Figure size 504x360 with 2 Axes>"
      ]
     },
     "metadata": {
      "needs_background": "light"
     },
     "output_type": "display_data"
    }
   ],
   "source": [
    "# compute the confusion matrix\n",
    "confusion_mtx = confusion_matrix(y_test_color, y_pred) \n",
    "# plot the confusion matrix\n",
    "categories = ['Left to right', \"Pull\", \"Push\", \"Right to left\"]\n",
    "f, ax = plt.subplots(figsize=(7, 5))\n",
    "sns.heatmap(confusion_mtx, annot=True, linewidths=0.01,cmap=\"Blues\",linecolor=\"grey\", fmt= 'g',ax=ax, xticklabels=categories, yticklabels=categories)\n",
    "plt.xlabel(\"Predicted action\", fontsize=12)\n",
    "plt.ylabel(\"True action\", fontsize=12)\n",
    "plt.title(\"Confusion Matrix MLP Color\")\n",
    "locs, labels = plt.yticks()\n",
    "plt.setp(labels, rotation=45)\n",
    "plt.show()"
   ]
  },
  {
   "cell_type": "code",
   "execution_count": null,
   "id": "492b7047-ad94-447b-ae2b-855cebd99569",
   "metadata": {},
   "outputs": [],
   "source": []
  }
 ],
 "metadata": {
  "kernelspec": {
   "display_name": "Python 3",
   "language": "python",
   "name": "python3"
  },
  "language_info": {
   "codemirror_mode": {
    "name": "ipython",
    "version": 3
   },
   "file_extension": ".py",
   "mimetype": "text/x-python",
   "name": "python",
   "nbconvert_exporter": "python",
   "pygments_lexer": "ipython3",
   "version": "3.8.8"
  }
 },
 "nbformat": 4,
 "nbformat_minor": 5
}
