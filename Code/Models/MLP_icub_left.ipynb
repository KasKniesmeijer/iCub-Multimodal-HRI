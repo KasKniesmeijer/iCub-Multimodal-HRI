{
 "cells": [
  {
   "cell_type": "code",
   "execution_count": 1,
   "id": "09908b88-9447-4f1c-8111-371716ea52ba",
   "metadata": {},
   "outputs": [],
   "source": [
    "# Import libraries\n",
    "\n",
    "import numpy as np\n",
    "import pickle\n",
    "from sklearn.neural_network import MLPClassifier\n",
    "from sklearn.metrics import classification_report, confusion_matrix\n",
    "from sklearn.metrics import accuracy_score\n",
    "import matplotlib.pyplot as plt\n",
    "import seaborn as sns"
   ]
  },
  {
   "cell_type": "code",
   "execution_count": 2,
   "id": "d2bf1b6c-a1e3-4a0f-96d0-f44b2cda6541",
   "metadata": {},
   "outputs": [],
   "source": [
    "def load_color_inputs():\n",
    "    X_train_icub_left = pickle.load(open('E:/training_icub_left.pkl', \"rb\"))\n",
    "    X_valid_icub_left = pickle.load(open('E:/validation_icub_left.pkl', \"rb\"))\n",
    "    X_test_icub_left = pickle.load(open('E:/testing_icub_left.pkl', \"rb\"))\n",
    "    return X_train_icub_left, X_valid_icub_left, X_test_icub_left\n",
    "\n",
    "\n",
    "def load_outputs():\n",
    "    y_train = pickle.load(open('E:/y_training.pkl', \"rb\"))\n",
    "    y_valid = pickle.load(open('E:/y_validation.pkl', \"rb\"))\n",
    "    y_test = pickle.load(open('E:/y_testing.pkl', \"rb\"))\n",
    "    return y_train, y_valid, y_test\n",
    "\n",
    "\n",
    "# Load in X, y data\n",
    "X_train_icub_left, X_valid_icub_left, X_test_icub_left = load_color_inputs()\n",
    "y_train_icub_left, y_valid_icub_left, y_test_icub_left = load_outputs()\n",
    "\n",
    "# Shuffle data\n",
    "np.random.seed(200)\n",
    "X_train_icub_left, X_valid_icub_left, X_test_icub_left = np.random.permutation(X_train_icub_left), np.random.permutation(X_valid_icub_left), np.random.permutation(X_test_icub_left)\n",
    "np.random.seed(200)\n",
    "y_train_icub_left, y_valid_icub_left, y_test_icub_left = np.random.permutation(y_train_icub_left), np.random.permutation(y_valid_icub_left), np.random.permutation(y_test_icub_left)"
   ]
  },
  {
   "cell_type": "code",
   "execution_count": 3,
   "id": "be00bbb0-4c1c-413f-9db2-43e6921fae0c",
   "metadata": {},
   "outputs": [
    {
     "name": "stderr",
     "output_type": "stream",
     "text": [
      "C:\\Users\\kaskn\\anaconda3\\lib\\site-packages\\sklearn\\neural_network\\_multilayer_perceptron.py:614: ConvergenceWarning: Stochastic Optimizer: Maximum iterations (500) reached and the optimization hasn't converged yet.\n",
      "  warnings.warn(\n"
     ]
    }
   ],
   "source": [
    "clf = MLPClassifier(random_state=1,alpha=0.0001, early_stopping=False, hidden_layer_sizes=(120, 80, 40), learning_rate='adaptive', max_iter=500, activation='tanh', solver='sgd').fit(X_train_icub_left, y_train_icub_left)"
   ]
  },
  {
   "cell_type": "code",
   "execution_count": 4,
   "id": "54bdd616-1344-492c-b946-dab6ef6359d0",
   "metadata": {},
   "outputs": [
    {
     "name": "stdout",
     "output_type": "stream",
     "text": [
      "Accuracy: 0.967187\n"
     ]
    }
   ],
   "source": [
    "# Test accuracy on Validation set\n",
    "y_pred = clf.predict(X_valid_icub_left)\n",
    "print('Accuracy: {:.6f}'.format(accuracy_score(y_valid_icub_left, y_pred)))"
   ]
  },
  {
   "cell_type": "code",
   "execution_count": 5,
   "id": "89e5013f-1078-4079-9578-c3492ff2132e",
   "metadata": {},
   "outputs": [],
   "source": [
    "# Save Model\n",
    "pickle.dump(clf, open(r\"MLP_icub_left_model\", \"wb\"))"
   ]
  },
  {
   "cell_type": "code",
   "execution_count": 6,
   "id": "f7246157-e6be-441e-b6b0-d33a8d5fdee7",
   "metadata": {},
   "outputs": [],
   "source": [
    "# Load Model\n",
    "model = pickle.load(open(r\"MLP_icub_left_model\", \"rb\"))"
   ]
  },
  {
   "cell_type": "code",
   "execution_count": 7,
   "id": "25a9f3f7-54bd-49d4-bf3a-61c2589a6c1e",
   "metadata": {},
   "outputs": [
    {
     "name": "stdout",
     "output_type": "stream",
     "text": [
      "Accuracy: 0.975000\n"
     ]
    }
   ],
   "source": [
    "# Test accuracy on Test set\n",
    "y_pred = clf.predict(X_test_icub_left)\n",
    "print('Accuracy: {:.6f}'.format(accuracy_score(y_test_icub_left, y_pred)))"
   ]
  },
  {
   "cell_type": "code",
   "execution_count": 8,
   "id": "d7f26b77-4257-4200-af72-0d257793b9d5",
   "metadata": {},
   "outputs": [
    {
     "name": "stdout",
     "output_type": "stream",
     "text": [
      "               precision    recall  f1-score   support\n",
      "\n",
      "Left to right     0.9576    0.9875    0.9723       160\n",
      "         Pull     0.9748    0.9688    0.9718       160\n",
      "         Push     0.9935    0.9563    0.9745       160\n",
      "Right to left     0.9753    0.9875    0.9814       160\n",
      "\n",
      "     accuracy                         0.9750       640\n",
      "    macro avg     0.9753    0.9750    0.9750       640\n",
      " weighted avg     0.9753    0.9750    0.9750       640\n",
      "\n"
     ]
    }
   ],
   "source": [
    "# Predict the values from the validation dataset and convert predictions classes to one hot vectors\n",
    "categories = ['Left to right', \"Pull\", \"Push\", \"Right to left\"]\n",
    "y_pred = model.predict(X_test_icub_left)\n",
    "\n",
    "print(classification_report(y_test_icub_left, y_pred, target_names=categories, digits=4))"
   ]
  },
  {
   "cell_type": "code",
   "execution_count": 9,
   "id": "ca1edc30-9390-4e7e-976c-bf4cfad81acc",
   "metadata": {},
   "outputs": [
    {
     "data": {
      "image/png": "[encoded data removed]",
      "text/plain": [
       "<Figure size 504x360 with 2 Axes>"
      ]
     },
     "metadata": {
      "needs_background": "light"
     },
     "output_type": "display_data"
    }
   ],
   "source": [
    "# compute the confusion matrix\n",
    "confusion_mtx = confusion_matrix(y_test_icub_left, y_pred) \n",
    "# plot the confusion matrix\n",
    "categories = ['Left to right', \"Pull\", \"Push\", \"Right to left\"]\n",
    "f, ax = plt.subplots(figsize=(7, 5))\n",
    "sns.heatmap(confusion_mtx, annot=True, linewidths=0.01,cmap=\"Blues\",linecolor=\"grey\", fmt= 'g',ax=ax, xticklabels=categories, yticklabels=categories)\n",
    "plt.xlabel(\"Predicted action\", fontsize=12)\n",
    "plt.ylabel(\"True action\", fontsize=12)\n",
    "plt.title(\"Confusion Matrix MLP iCub Left\")\n",
    "locs, labels = plt.yticks()\n",
    "plt.setp(labels, rotation=45)\n",
    "plt.show()"
   ]
  },
  {
   "cell_type": "code",
   "execution_count": null,
   "id": "d9c28789-693b-4f32-b7ac-afc662d63bdf",
   "metadata": {},
   "outputs": [],
   "source": []
  }
 ],
 "metadata": {
  "kernelspec": {
   "display_name": "Python 3",
   "language": "python",
   "name": "python3"
  },
  "language_info": {
   "codemirror_mode": {
    "name": "ipython",
    "version": 3
   },
   "file_extension": ".py",
   "mimetype": "text/x-python",
   "name": "python",
   "nbconvert_exporter": "python",
   "pygments_lexer": "ipython3",
   "version": "3.8.8"
  }
 },
 "nbformat": 4,
 "nbformat_minor": 5
}
