{
 "cells": [
  {
   "cell_type": "code",
   "execution_count": 1,
   "id": "52ba255a-f076-4c75-8b4a-0af34f459466",
   "metadata": {},
   "outputs": [],
   "source": [
    "# Import libraries\n",
    "\n",
    "import numpy as np\n",
    "import pickle\n",
    "import tensorflow as tf\n",
    "from keras.utils import to_categorical\n",
    "import matplotlib.pyplot as plt\n",
    "from sklearn.metrics import classification_report, confusion_matrix\n",
    "import seaborn as sns"
   ]
  },
  {
   "cell_type": "code",
   "execution_count": 3,
   "id": "eeb86ff5-8b2b-40d4-a280-46043dc2b02f",
   "metadata": {},
   "outputs": [],
   "source": [
    "# Function to load X values\n",
    "def load_depth_inputs():\n",
    "    X_train_depth = pickle.load(open('E:/training_depth.pkl', \"rb\"))\n",
    "    X_valid_depth = pickle.load(open('E:/validation_depth.pkl', \"rb\"))\n",
    "    X_test_depth = pickle.load(open('E:/testing_depth.pkl', \"rb\"))\n",
    "    return X_train_depth, X_valid_depth, X_test_depth\n",
    "\n",
    "# Function to load y values\n",
    "def load_outputs():\n",
    "    y_train = pickle.load(open('E:/y_training.pkl', \"rb\"))\n",
    "    y_valid = pickle.load(open('E:/y_validation.pkl', \"rb\"))\n",
    "    y_test = pickle.load(open('E:/y_testing.pkl', \"rb\"))\n",
    "    return y_train, y_valid, y_test\n",
    "\n",
    "# Function to reshape data\n",
    "def reshape_input_vect(vect, size=(128, 64, 3)):\n",
    "    inp_vect = []\n",
    "    for i in range(vect.shape[0]):\n",
    "        inp_vect.append(np.reshape(vect[i], (128, 64, 3)))\n",
    "    return np.asarray(inp_vect)\n",
    "\n",
    "# Load in X data\n",
    "X_train_depth, X_valid_depth, X_test_depth = load_depth_inputs()\n",
    "\n",
    "# Load in y data\n",
    "y_train_depth, y_valid_depth, y_test_depth = load_outputs()\n",
    "\n",
    "# To categorical y-values [[1, 0, 0, 0], [0, 1, 0, 0], [0, 0, 1, 0], [0, 0, 0, 1]]\n",
    "y_train_depth = to_categorical(y_train_depth, num_classes = None, dtype='float32')\n",
    "y_valid_depth = to_categorical(y_valid_depth, num_classes = None, dtype='float32')\n",
    "y_test_depth = to_categorical(y_test_depth, num_classes = None, dtype='float32')"
   ]
  },
  {
   "cell_type": "code",
   "execution_count": 4,
   "id": "58b45e0f-02eb-4bde-8a93-0d0c213c1773",
   "metadata": {},
   "outputs": [],
   "source": [
    "# Shuffle data\n",
    "np.random.seed(200)\n",
    "X_train_depth, X_valid_depth, X_test_depth = np.random.permutation(X_train_depth), np.random.permutation(\n",
    "    X_valid_depth), np.random.permutation(X_test_depth)\n",
    "np.random.seed(200)\n",
    "y_train_depth, y_valid_depth, y_test_depth = np.random.permutation(y_train_depth), np.random.permutation(\n",
    "    y_valid_depth), np.random.permutation(y_test_depth)"
   ]
  },
  {
   "cell_type": "code",
   "execution_count": 5,
   "id": "30d56b37-d464-40fe-bed9-049c784bb6f7",
   "metadata": {},
   "outputs": [
    {
     "name": "stdout",
     "output_type": "stream",
     "text": [
      "new shape: (1920, 128, 64, 3)\n",
      "new shape: (640, 128, 64, 3)\n",
      "new shape: (640, 128, 64, 3)\n"
     ]
    }
   ],
   "source": [
    "# Reshape data\n",
    "X_train_depth, X_valid_depth, X_test_depth = reshape_input_vect(X_train_depth), reshape_input_vect(X_valid_depth), reshape_input_vect(X_test_depth)\n",
    "print(\"new shape:\", X_train_depth.shape)\n",
    "print(\"new shape:\", X_valid_depth.shape)\n",
    "print(\"new shape:\", X_test_depth.shape)"
   ]
  },
  {
   "cell_type": "code",
   "execution_count": 6,
   "id": "5f6019dc-d19c-4b0d-b784-3bc5bf1e7c97",
   "metadata": {},
   "outputs": [
    {
     "data": {
      "image/png": "[encoded data removed]",
      "text/plain": [
       "<Figure size 432x288 with 1 Axes>"
      ]
     },
     "metadata": {
      "needs_background": "light"
     },
     "output_type": "display_data"
    }
   ],
   "source": [
    "# Show first training image\n",
    "plt.imshow(X_train_depth[0])\n",
    "plt.show()"
   ]
  },
  {
   "cell_type": "code",
   "execution_count": 11,
   "id": "00f7a51d-a813-4f9b-9c06-22fef83687bd",
   "metadata": {},
   "outputs": [
    {
     "name": "stdout",
     "output_type": "stream",
     "text": [
      "Model: \"sequential_2\"\n",
      "_________________________________________________________________\n",
      " Layer (type)                Output Shape              Param #   \n",
      "=================================================================\n",
      " conv2d_6 (Conv2D)           (None, 124, 60, 32)       2432      \n",
      "                                                                 \n",
      " max_pooling2d_6 (MaxPooling  (None, 62, 30, 32)       0         \n",
      " 2D)                                                             \n",
      "                                                                 \n",
      " conv2d_7 (Conv2D)           (None, 60, 28, 64)        18496     \n",
      "                                                                 \n",
      " max_pooling2d_7 (MaxPooling  (None, 30, 14, 64)       0         \n",
      " 2D)                                                             \n",
      "                                                                 \n",
      " conv2d_8 (Conv2D)           (None, 28, 12, 128)       73856     \n",
      "                                                                 \n",
      " max_pooling2d_8 (MaxPooling  (None, 14, 6, 128)       0         \n",
      " 2D)                                                             \n",
      "                                                                 \n",
      " flatten_2 (Flatten)         (None, 10752)             0         \n",
      "                                                                 \n",
      " dense_4 (Dense)             (None, 128)               1376384   \n",
      "                                                                 \n",
      " dense_5 (Dense)             (None, 4)                 516       \n",
      "                                                                 \n",
      "=================================================================\n",
      "Total params: 1,471,684\n",
      "Trainable params: 1,471,684\n",
      "Non-trainable params: 0\n",
      "_________________________________________________________________\n",
      "Epoch 1/20\n",
      "60/60 [==============================] - 2s 19ms/step - loss: 1.3917 - accuracy: 0.2557 - val_loss: 1.3862 - val_accuracy: 0.2500\n",
      "Epoch 2/20\n",
      "60/60 [==============================] - 1s 15ms/step - loss: 1.3872 - accuracy: 0.2536 - val_loss: 1.3906 - val_accuracy: 0.2500\n",
      "Epoch 3/20\n",
      "60/60 [==============================] - 1s 15ms/step - loss: 1.3828 - accuracy: 0.3078 - val_loss: 1.3536 - val_accuracy: 0.2719\n",
      "Epoch 4/20\n",
      "60/60 [==============================] - 1s 16ms/step - loss: 0.8675 - accuracy: 0.7031 - val_loss: 0.4373 - val_accuracy: 0.8531\n",
      "Epoch 5/20\n",
      "60/60 [==============================] - 1s 16ms/step - loss: 0.3351 - accuracy: 0.8964 - val_loss: 0.2920 - val_accuracy: 0.9141\n",
      "Epoch 6/20\n",
      "60/60 [==============================] - 1s 16ms/step - loss: 0.2843 - accuracy: 0.9089 - val_loss: 0.2243 - val_accuracy: 0.9297\n",
      "Epoch 7/20\n",
      "60/60 [==============================] - 1s 15ms/step - loss: 0.1895 - accuracy: 0.9380 - val_loss: 0.1816 - val_accuracy: 0.9469\n",
      "Epoch 8/20\n",
      "60/60 [==============================] - 1s 16ms/step - loss: 0.1642 - accuracy: 0.9458 - val_loss: 0.1696 - val_accuracy: 0.9516\n",
      "Epoch 9/20\n",
      "60/60 [==============================] - 1s 16ms/step - loss: 0.1312 - accuracy: 0.9583 - val_loss: 0.1092 - val_accuracy: 0.9703\n",
      "Epoch 10/20\n",
      "60/60 [==============================] - 1s 16ms/step - loss: 0.1097 - accuracy: 0.9661 - val_loss: 0.1061 - val_accuracy: 0.9734\n",
      "Epoch 11/20\n",
      "60/60 [==============================] - 1s 16ms/step - loss: 0.0831 - accuracy: 0.9719 - val_loss: 0.0965 - val_accuracy: 0.9688\n",
      "Epoch 12/20\n",
      "60/60 [==============================] - 1s 17ms/step - loss: 0.0846 - accuracy: 0.9688 - val_loss: 0.1045 - val_accuracy: 0.9656\n",
      "Epoch 13/20\n",
      "60/60 [==============================] - 1s 16ms/step - loss: 0.0652 - accuracy: 0.9792 - val_loss: 0.1036 - val_accuracy: 0.9656\n",
      "Epoch 14/20\n",
      "60/60 [==============================] - 1s 16ms/step - loss: 0.0553 - accuracy: 0.9823 - val_loss: 0.0854 - val_accuracy: 0.9703\n",
      "Epoch 15/20\n",
      "60/60 [==============================] - 1s 16ms/step - loss: 0.0395 - accuracy: 0.9854 - val_loss: 0.1097 - val_accuracy: 0.9719\n",
      "Epoch 16/20\n",
      "60/60 [==============================] - 1s 16ms/step - loss: 0.0265 - accuracy: 0.9927 - val_loss: 0.1170 - val_accuracy: 0.9719\n",
      "Epoch 17/20\n",
      "60/60 [==============================] - 1s 16ms/step - loss: 0.0236 - accuracy: 0.9927 - val_loss: 0.1187 - val_accuracy: 0.9703\n",
      "Epoch 18/20\n",
      "60/60 [==============================] - 1s 16ms/step - loss: 0.0223 - accuracy: 0.9937 - val_loss: 0.1450 - val_accuracy: 0.9625\n",
      "Epoch 19/20\n",
      "60/60 [==============================] - 1s 16ms/step - loss: 0.0104 - accuracy: 0.9984 - val_loss: 0.1342 - val_accuracy: 0.9625\n",
      "Epoch 20/20\n",
      "60/60 [==============================] - 1s 16ms/step - loss: 0.0077 - accuracy: 0.9990 - val_loss: 0.1341 - val_accuracy: 0.9703\n"
     ]
    }
   ],
   "source": [
    "### CNN MODEL\n",
    "\n",
    "model = tf.keras.Sequential()\n",
    "model.add(tf.keras.layers.Conv2D(32, (5, 5), activation='relu', input_shape=(128, 64, 3)))\n",
    "model.add(tf.keras.layers.MaxPooling2D((2, 2)))\n",
    "model.add(tf.keras.layers.Conv2D(64, (3, 3), activation='relu'))\n",
    "model.add(tf.keras.layers.MaxPooling2D((2, 2)))\n",
    "model.add(tf.keras.layers.Conv2D(128, (3, 3), activation='relu'))\n",
    "model.add(tf.keras.layers.MaxPooling2D((2, 2)))\n",
    "model.add(tf.keras.layers.Flatten())\n",
    "model.add(tf.keras.layers.Dense(128, activation='relu'))\n",
    "model.add(tf.keras.layers.Dense(4, activation='softmax'))\n",
    "\n",
    "model.summary()\n",
    "\n",
    "model.compile(optimizer='Adam',\n",
    "              loss='categorical_crossentropy',\n",
    "              metrics=['accuracy'])\n",
    "history = model.fit(X_train_depth, y_train_depth, epochs=20, verbose=1, validation_data=(X_valid_depth, y_valid_depth))"
   ]
  },
  {
   "cell_type": "code",
   "execution_count": 12,
   "id": "2f3acd99-18bb-4dc4-847b-47be377c2343",
   "metadata": {},
   "outputs": [
    {
     "name": "stdout",
     "output_type": "stream",
     "text": [
      "20/20 [==============================] - 0s 7ms/step - loss: 0.1341 - accuracy: 0.9703\n",
      "Accuracy:0.9703124761581421\n"
     ]
    }
   ],
   "source": [
    "[loss, acc] = model.evaluate(X_valid_depth, y_valid_depth ,verbose=1)\n",
    "print(\"Accuracy:\" + str(acc))"
   ]
  },
  {
   "cell_type": "code",
   "execution_count": 14,
   "id": "2199adfa-6b8d-485c-8c81-b97e6c5feb79",
   "metadata": {},
   "outputs": [
    {
     "name": "stdout",
     "output_type": "stream",
     "text": [
      "20/20 [==============================] - 0s 7ms/step - loss: 0.2680 - accuracy: 0.9531\n"
     ]
    },
    {
     "data": {
      "text/plain": [
       "[0.26800069212913513, 0.953125]"
      ]
     },
     "execution_count": 14,
     "metadata": {},
     "output_type": "execute_result"
    }
   ],
   "source": [
    "model.evaluate(X_test_depth, y_test_depth)"
   ]
  },
  {
   "cell_type": "code",
   "execution_count": 15,
   "id": "9ee4946a-efd9-4039-89ba-8b34d130b893",
   "metadata": {},
   "outputs": [],
   "source": [
    "model.save('CNN_1_depth_model',save_format='h5')"
   ]
  },
  {
   "cell_type": "code",
   "execution_count": 16,
   "id": "55dbe76d-ba0d-4e7e-b5af-403367da2bc9",
   "metadata": {},
   "outputs": [],
   "source": [
    "model = tf.keras.models.load_model('CNN_1_depth_model')"
   ]
  },
  {
   "cell_type": "code",
   "execution_count": 17,
   "id": "2976994d-981f-4557-b9cf-c053cfc8ef90",
   "metadata": {},
   "outputs": [
    {
     "name": "stdout",
     "output_type": "stream",
     "text": [
      "20/20 [==============================] - 0s 5ms/step\n",
      "               precision    recall  f1-score   support\n",
      "\n",
      "Left to right     0.9487    0.9250    0.9367       160\n",
      "         Pull     0.9029    0.9875    0.9433       160\n",
      "         Push     0.9805    0.9437    0.9618       160\n",
      "Right to left     0.9871    0.9563    0.9714       160\n",
      "\n",
      "     accuracy                         0.9531       640\n",
      "    macro avg     0.9548    0.9531    0.9533       640\n",
      " weighted avg     0.9548    0.9531    0.9533       640\n",
      "\n"
     ]
    }
   ],
   "source": [
    "# Predict the values from the validation dataset and convert predictions classes to one hot vectors\n",
    "categories = ['Left to right', \"Pull\", \"Push\", \"Right to left\"]\n",
    "y_pred = np.argmax(model.predict(X_test_depth), axis=-1)\n",
    "\n",
    "# Convert validation observations to one hot vectors\n",
    "y_true = np.argmax(y_test_depth, axis=-1)\n",
    "\n",
    "print(classification_report(y_true, y_pred, target_names=categories, digits=4))"
   ]
  },
  {
   "cell_type": "code",
   "execution_count": 18,
   "id": "9cccb053-5005-4500-ace4-3a772b78776f",
   "metadata": {},
   "outputs": [
    {
     "data": {
      "image/png": "[encoded data removed]",
      "text/plain": [
       "<Figure size 504x360 with 2 Axes>"
      ]
     },
     "metadata": {
      "needs_background": "light"
     },
     "output_type": "display_data"
    }
   ],
   "source": [
    "# compute the confusion matrix\n",
    "confusion_mtx = confusion_matrix(y_true, y_pred) \n",
    "# plot the confusion matrix\n",
    "categories = ['Left to right', \"Pull\", \"Push\", \"Right to left\"]\n",
    "f, ax = plt.subplots(figsize=(7, 5))\n",
    "sns.heatmap(confusion_mtx, annot=True, linewidths=0.01,cmap=\"Blues\",linecolor=\"grey\", fmt= 'g',ax=ax, xticklabels=categories, yticklabels=categories)\n",
    "plt.xlabel(\"Predicted action\", fontsize=12)\n",
    "plt.ylabel(\"True action\", fontsize=12)\n",
    "plt.title(\"Confusion Matrix CNN-1 depth\")\n",
    "locs, labels = plt.yticks()\n",
    "plt.setp(labels, rotation=45)\n",
    "plt.show()"
   ]
  },
  {
   "cell_type": "code",
   "execution_count": null,
   "id": "1d060ed0-b0cb-49c7-82cb-c24ef6746c55",
   "metadata": {},
   "outputs": [],
   "source": []
  }
 ],
 "metadata": {
  "kernelspec": {
   "display_name": "Python 3",
   "language": "python",
   "name": "python3"
  },
  "language_info": {
   "codemirror_mode": {
    "name": "ipython",
    "version": 3
   },
   "file_extension": ".py",
   "mimetype": "text/x-python",
   "name": "python",
   "nbconvert_exporter": "python",
   "pygments_lexer": "ipython3",
   "version": "3.8.8"
  }
 },
 "nbformat": 4,
 "nbformat_minor": 5
}
